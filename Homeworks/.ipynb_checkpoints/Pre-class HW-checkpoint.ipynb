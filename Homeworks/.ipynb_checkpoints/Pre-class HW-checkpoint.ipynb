{
 "cells": [
  {
   "cell_type": "markdown",
   "metadata": {},
   "source": [
    "To open notebook in Colab please click below:\n",
    "\n",
    "<a href=\"https://colab.research.google.com/github/bwolfson2/foster_2020/blob/master/Homeworks/Pre-class%20HW.ipynb\" target=\"_parent\"> <img src=\"https://colab.research.google.com/assets/colab-badge.svg\" alt=\"Open In Colab\" /> </a>'\n"
   ]
  },
  {
   "cell_type": "markdown",
   "metadata": {},
   "source": [
    "### First things first --  Save your own copy of this notebook in your Google drive, and then delete this text cell! (If you're confused go through the [Colab Basics Jupyter Notebook](https://github.com/bwolfson2/foster_2020/blob/master/Module0_Basics/Colab%20Basics.ipynb))"
   ]
  },
  {
   "cell_type": "markdown",
   "metadata": {},
   "source": [
    "# Pre-class Homework - Survey and Python review\n",
    "\n",
    "Welcome to the course! The purpose of this homework is to get to know you better and warm up your Python skills before the first class. Make sure to check out the referesher in Module0_Basics if it has been a while since the last time you coded. \n",
    "\n",
    "Please upload your completed notebook to NYU Classes."
   ]
  },
  {
   "cell_type": "markdown",
   "metadata": {},
   "source": [
    "## Part 0: I have gone through the [Colab Basics Jupyter Notebook](https://github.com/bwolfson2/foster_2020/blob/master/Module0_Basics/Colab%20Basics.ipynb)"
   ]
  },
  {
   "cell_type": "markdown",
   "metadata": {},
   "source": [
    "** Mark \"Yes\" below. **"
   ]
  },
  {
   "cell_type": "markdown",
   "metadata": {},
   "source": [
    "___  I saved this Colab notebook and deleted the relevant cell above\n",
    "\n",
    "___  I have read and understood the Colab notebook"
   ]
  },
  {
   "cell_type": "markdown",
   "metadata": {},
   "source": [
    "## Part 1: Know the course"
   ]
  },
  {
   "cell_type": "markdown",
   "metadata": {},
   "source": [
    "** 1.1 Read the syllabus (available on NYU classes) in its entirety. Mark \"Yes\" below. **"
   ]
  },
  {
   "cell_type": "markdown",
   "metadata": {},
   "source": [
    "___  I have read and understood the syllabus for this class."
   ]
  },
  {
   "cell_type": "markdown",
   "metadata": {},
   "source": [
    "## Part 2: Let us know you better"
   ]
  },
  {
   "cell_type": "markdown",
   "metadata": {},
   "source": [
    "** 2.1 Please go to this [link](https://forms.gle/jegWCQeujd8rd4t36) and fill the survey. Mark \"Yes\" below. **"
   ]
  },
  {
   "cell_type": "markdown",
   "metadata": {},
   "source": [
    "___  I have read and filled the survey for this class."
   ]
  },
  {
   "cell_type": "markdown",
   "metadata": {},
   "source": [
    "## Part 3: Python review"
   ]
  },
  {
   "cell_type": "markdown",
   "metadata": {},
   "source": [
    "**3.1 Create one Python list of 5 fruits and another one with 5 colors. **"
   ]
  },
  {
   "cell_type": "code",
   "execution_count": null,
   "metadata": {
    "collapsed": true
   },
   "outputs": [],
   "source": []
  },
  {
   "cell_type": "markdown",
   "metadata": {},
   "source": [
    "**3.2 Go through each fruit (first list) and print out the name of the fruit with one color of the second list without repeating any color. **\n",
    "\n",
    "(don't worry, it doesn't have to be the color of the fruit!)\n",
    "\n",
    "Example of what you should print for one fruit:  _apple is purple_"
   ]
  },
  {
   "cell_type": "code",
   "execution_count": null,
   "metadata": {
    "collapsed": true
   },
   "outputs": [],
   "source": []
  },
  {
   "cell_type": "markdown",
   "metadata": {},
   "source": [
    "**3.3 Add two new fruits to your list with a _BUILT-IN_ function. **\n",
    "\n",
    "(You may want to look for the function with the **TAB** hint!)"
   ]
  },
  {
   "cell_type": "code",
   "execution_count": null,
   "metadata": {
    "collapsed": true
   },
   "outputs": [],
   "source": []
  },
  {
   "cell_type": "markdown",
   "metadata": {},
   "source": [
    "**3.4 Use the list of fruits and sort the names (put them in alphabetical order). **\n",
    "\n",
    "(Hint: The lists in Python already have a function for that)"
   ]
  },
  {
   "cell_type": "code",
   "execution_count": null,
   "metadata": {
    "collapsed": true
   },
   "outputs": [],
   "source": []
  },
  {
   "cell_type": "markdown",
   "metadata": {},
   "source": [
    "**3.5 Create a new empty list called \"count_letters\". Go through your list of fruits, and for each one, add an entry to that new list (count_letters) telling the number of letters each fruit name. Then, print how many letters each fruit has.**\n",
    "\n",
    "Example of what you should print for one fruit: _apple is 5 letters_"
   ]
  },
  {
   "cell_type": "code",
   "execution_count": null,
   "metadata": {
    "collapsed": true
   },
   "outputs": [],
   "source": []
  },
  {
   "cell_type": "markdown",
   "metadata": {},
   "source": [
    "** 3.6 Make a function called `one_more` that takes a list (input_list) and returns a new list (output_list) where each element of the original will be increased by 1 and divided by 2. **"
   ]
  },
  {
   "cell_type": "code",
   "execution_count": 1,
   "metadata": {
    "collapsed": true
   },
   "outputs": [],
   "source": [
    "def one_more(input_list):\n",
    "    output_list = []   \n",
    "    # Your code goes here!\n",
    "    \n",
    "    return output_list"
   ]
  },
  {
   "cell_type": "markdown",
   "metadata": {},
   "source": [
    "** 3.7 Use the previous function to change the value of a list of 10 random numbers. **"
   ]
  },
  {
   "cell_type": "markdown",
   "metadata": {
    "collapsed": true
   },
   "source": [
    "# To submit the homework save it to your google drive (see Part 0), download it and upload to NYU Classes under assignments\n",
    "\n"
   ]
  },
  {
   "cell_type": "code",
   "execution_count": null,
   "metadata": {
    "collapsed": true
   },
   "outputs": [],
   "source": []
  }
 ],
 "metadata": {
  "kernelspec": {
   "display_name": "Python 3",
   "language": "python",
   "name": "python3"
  },
  "language_info": {
   "codemirror_mode": {
    "name": "ipython",
    "version": 3
   },
   "file_extension": ".py",
   "mimetype": "text/x-python",
   "name": "python",
   "nbconvert_exporter": "python",
   "pygments_lexer": "ipython3",
   "version": "3.6.9"
  }
 },
 "nbformat": 4,
 "nbformat_minor": 2
}
